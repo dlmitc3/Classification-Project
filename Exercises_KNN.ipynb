{
 "cells": [
  {
   "cell_type": "markdown",
   "id": "f65d8c49",
   "metadata": {},
   "source": [
    "# **Exercises KNN**"
   ]
  },
  {
   "cell_type": "markdown",
   "id": "0a4bf387",
   "metadata": {},
   "source": [
    "**Continue working in your model file with the titanic dataset.**\n",
    "\n",
    "- 1. Fit a K-Nearest Neighbors classifier to your training sample and transform (i.e. make predictions on the training sample)\n",
    "\n",
    "- 2. Evaluate your results using the model score, confusion matrix, and classification report.\n",
    "\n",
    "- 3. Print and clearly label the following: Accuracy, true positive rate, false positive rate, true negative rate, false negative rate, precision, recall, f1-score, and support.\n",
    "\n",
    "- 4. Run through steps 2-4 setting k to 10\n",
    "\n",
    "- 5. Run through setps 2-4 setting k to 20\n",
    "\n",
    "- 6. What are the differences in the evaluation metrics? Which performs better on your in-sample data? Why?\n",
    "\n",
    "- 7. Which model performs best on our out-of-sample data from validate?"
   ]
  },
  {
   "cell_type": "code",
   "execution_count": 3,
   "id": "452a99c9",
   "metadata": {},
   "outputs": [],
   "source": [
    "import matplotlib.pyplot as plt\n",
    "import numpy as np\n",
    "import pandas as pd\n",
    "import acquire\n",
    "import prepare\n",
    "from acquire import get_titanic_data\n",
    "from prepare import prep_titanic_data\n",
    "from prepare import clean_titanic_data\n",
    "import warnings\n",
    "warnings.filterwarnings('ignore')\n",
    "\n",
    "\n",
    "# import splitting and imputing functions\n",
    "from sklearn.impute import SimpleImputer\n",
    "from sklearn.model_selection import train_test_split\n",
    "from sklearn.tree import DecisionTreeClassifier, plot_tree\n",
    "from sklearn.metrics import classification_report\n",
    "from sklearn.metrics import confusion_matrix\n",
    "from sklearn.metrics import confusion_matrix, classification_report, accuracy_score, precision_score, recall_score\n",
    "\n",
    "import seaborn as sns"
   ]
  },
  {
   "cell_type": "code",
   "execution_count": null,
   "id": "b09ce716",
   "metadata": {},
   "outputs": [],
   "source": []
  }
 ],
 "metadata": {
  "kernelspec": {
   "display_name": "Python 3 (ipykernel)",
   "language": "python",
   "name": "python3"
  },
  "language_info": {
   "codemirror_mode": {
    "name": "ipython",
    "version": 3
   },
   "file_extension": ".py",
   "mimetype": "text/x-python",
   "name": "python",
   "nbconvert_exporter": "python",
   "pygments_lexer": "ipython3",
   "version": "3.9.7"
  }
 },
 "nbformat": 4,
 "nbformat_minor": 5
}
