{
 "cells": [
  {
   "cell_type": "code",
   "execution_count": 7,
   "id": "c6735a4c",
   "metadata": {},
   "outputs": [],
   "source": [
    "import warnings\n",
    "warnings.filterwarnings(\"ignore\")\n",
    "\n",
    "import pandas as pd\n",
    "import numpy as np\n",
    "import matplotlib.pyplot as plt\n",
    "import seaborn as sns\n",
    "from scipy import stats\n",
    "from sklearn.model_selection import train_test_split\n",
    "\n",
    "np.random.seed(123)\n"
   ]
  },
  {
   "cell_type": "markdown",
   "id": "5c9672e7",
   "metadata": {},
   "source": [
    "Aquire Titanic data from our mySQL database"
   ]
  },
  {
   "cell_type": "code",
   "execution_count": 8,
   "id": "84b363b7",
   "metadata": {},
   "outputs": [],
   "source": [
    "import env\n",
    "\n",
    "def get_connection(db, user=env.user, host=env.host, password=env.password):\n",
    "    return f'mysql+pymysql://{user}:{password}@{host}/{db}'\n",
    "\n",
    "def get_titanic():\n",
    "    my_query=\"SELECT * FROM passengers\"\n",
    "    df = pd.read_sql(my_query, get_connection('titanic_db'))\n",
    "    return df\n"
   ]
  },
  {
   "cell_type": "code",
   "execution_count": 9,
   "id": "1bcfa15b",
   "metadata": {},
   "outputs": [
    {
     "data": {
      "text/html": [
       "<div>\n",
       "<style scoped>\n",
       "    .dataframe tbody tr th:only-of-type {\n",
       "        vertical-align: middle;\n",
       "    }\n",
       "\n",
       "    .dataframe tbody tr th {\n",
       "        vertical-align: top;\n",
       "    }\n",
       "\n",
       "    .dataframe thead th {\n",
       "        text-align: right;\n",
       "    }\n",
       "</style>\n",
       "<table border=\"1\" class=\"dataframe\">\n",
       "  <thead>\n",
       "    <tr style=\"text-align: right;\">\n",
       "      <th></th>\n",
       "      <th>0</th>\n",
       "      <th>1</th>\n",
       "    </tr>\n",
       "  </thead>\n",
       "  <tbody>\n",
       "    <tr>\n",
       "      <th>passenger_id</th>\n",
       "      <td>0</td>\n",
       "      <td>1</td>\n",
       "    </tr>\n",
       "    <tr>\n",
       "      <th>survived</th>\n",
       "      <td>0</td>\n",
       "      <td>1</td>\n",
       "    </tr>\n",
       "    <tr>\n",
       "      <th>pclass</th>\n",
       "      <td>3</td>\n",
       "      <td>1</td>\n",
       "    </tr>\n",
       "    <tr>\n",
       "      <th>sex</th>\n",
       "      <td>male</td>\n",
       "      <td>female</td>\n",
       "    </tr>\n",
       "    <tr>\n",
       "      <th>age</th>\n",
       "      <td>22.0</td>\n",
       "      <td>38.0</td>\n",
       "    </tr>\n",
       "    <tr>\n",
       "      <th>sibsp</th>\n",
       "      <td>1</td>\n",
       "      <td>1</td>\n",
       "    </tr>\n",
       "    <tr>\n",
       "      <th>parch</th>\n",
       "      <td>0</td>\n",
       "      <td>0</td>\n",
       "    </tr>\n",
       "    <tr>\n",
       "      <th>fare</th>\n",
       "      <td>7.25</td>\n",
       "      <td>71.2833</td>\n",
       "    </tr>\n",
       "    <tr>\n",
       "      <th>embarked</th>\n",
       "      <td>S</td>\n",
       "      <td>C</td>\n",
       "    </tr>\n",
       "    <tr>\n",
       "      <th>class</th>\n",
       "      <td>Third</td>\n",
       "      <td>First</td>\n",
       "    </tr>\n",
       "    <tr>\n",
       "      <th>deck</th>\n",
       "      <td>None</td>\n",
       "      <td>C</td>\n",
       "    </tr>\n",
       "    <tr>\n",
       "      <th>embark_town</th>\n",
       "      <td>Southampton</td>\n",
       "      <td>Cherbourg</td>\n",
       "    </tr>\n",
       "    <tr>\n",
       "      <th>alone</th>\n",
       "      <td>0</td>\n",
       "      <td>0</td>\n",
       "    </tr>\n",
       "  </tbody>\n",
       "</table>\n",
       "</div>"
      ],
      "text/plain": [
       "                        0          1\n",
       "passenger_id            0          1\n",
       "survived                0          1\n",
       "pclass                  3          1\n",
       "sex                  male     female\n",
       "age                  22.0       38.0\n",
       "sibsp                   1          1\n",
       "parch                   0          0\n",
       "fare                 7.25    71.2833\n",
       "embarked                S          C\n",
       "class               Third      First\n",
       "deck                 None          C\n",
       "embark_town   Southampton  Cherbourg\n",
       "alone                   0          0"
      ]
     },
     "execution_count": 9,
     "metadata": {},
     "output_type": "execute_result"
    }
   ],
   "source": [
    "df = get_titanic()\n",
    "df.head(2).T\n"
   ]
  },
  {
   "cell_type": "code",
   "execution_count": 10,
   "id": "5eac8b46",
   "metadata": {},
   "outputs": [
    {
     "data": {
      "text/plain": [
       "passenger_id      0\n",
       "survived          0\n",
       "pclass            0\n",
       "sex               0\n",
       "age             177\n",
       "sibsp             0\n",
       "parch             0\n",
       "fare              0\n",
       "embarked          2\n",
       "class             0\n",
       "deck            688\n",
       "embark_town       2\n",
       "alone             0\n",
       "dtype: int64"
      ]
     },
     "execution_count": 10,
     "metadata": {},
     "output_type": "execute_result"
    }
   ],
   "source": [
    "df.isna().sum()"
   ]
  },
  {
   "cell_type": "code",
   "execution_count": 9,
   "id": "13c55864",
   "metadata": {},
   "outputs": [
    {
     "data": {
      "text/plain": [
       "passenger_id    0.000000\n",
       "survived        0.000000\n",
       "pclass          0.000000\n",
       "sex             0.000000\n",
       "age             0.198653\n",
       "sibsp           0.000000\n",
       "parch           0.000000\n",
       "fare            0.000000\n",
       "embarked        0.002245\n",
       "class           0.000000\n",
       "deck            0.772166\n",
       "embark_town     0.002245\n",
       "alone           0.000000\n",
       "dtype: float64"
      ]
     },
     "execution_count": 9,
     "metadata": {},
     "output_type": "execute_result"
    }
   ],
   "source": [
    "# Useful helper for checking for nulls\n",
    "# What proportion of each column is empty?\n",
    "df.isna().mean()\n"
   ]
  },
  {
   "cell_type": "raw",
   "id": "4aead1c3",
   "metadata": {},
   "source": [
    "Prepare the Titanic data. We apply the same steps before splitting so that we handle edge cases identically.\n",
    "\n",
    "    -drop deck since most of the data is missing\n",
    "    -drop rows where age or embarked is missing\n",
    "    -drop passenger_id, since it adds no new information\n",
    "    -drop class, as encoded values are in pclass\n",
    "    -create dummy vars & drop sex, embark_town\n",
    "    \n",
    "Questions for 2nd draft - Let's investigate and determine what are best options are for handlef the missing ages"
   ]
  },
  {
   "cell_type": "code",
   "execution_count": 11,
   "id": "eeb2c674",
   "metadata": {},
   "outputs": [],
   "source": [
    "# drop rows where age or embarked is null, drop column 'deck', drop passenger_id\n",
    "def prep_titanic(df):\n",
    "    '''\n",
    "    take in titanc dataframe, remove all rows where age or embarked is null, \n",
    "    get dummy variables for sex and embark_town, \n",
    "    and drop sex, deck, passenger_id, class, and embark_town. \n",
    "    '''\n",
    "\n",
    "    df = df[(df.age.notna()) & (df.embarked.notna())]\n",
    "    df = df.drop(columns=['deck', 'passenger_id', 'class'])\n",
    "\n",
    "    dummy_df = pd.get_dummies(df[['sex', 'embark_town']], prefix=['sex', 'embark'])\n",
    "\n",
    "    df = pd.concat([df, dummy_df.drop(columns=['sex_male'])], axis=1)\n",
    "\n",
    "    df = df.drop(columns=['sex', 'embark_town']) \n",
    "\n",
    "    df = df.rename(columns={\"sex_female\": \"is_female\"})\n",
    "\n",
    "    return df\n"
   ]
  },
  {
   "cell_type": "code",
   "execution_count": 12,
   "id": "90050aeb",
   "metadata": {},
   "outputs": [
    {
     "data": {
      "text/html": [
       "<div>\n",
       "<style scoped>\n",
       "    .dataframe tbody tr th:only-of-type {\n",
       "        vertical-align: middle;\n",
       "    }\n",
       "\n",
       "    .dataframe tbody tr th {\n",
       "        vertical-align: top;\n",
       "    }\n",
       "\n",
       "    .dataframe thead th {\n",
       "        text-align: right;\n",
       "    }\n",
       "</style>\n",
       "<table border=\"1\" class=\"dataframe\">\n",
       "  <thead>\n",
       "    <tr style=\"text-align: right;\">\n",
       "      <th></th>\n",
       "      <th>survived</th>\n",
       "      <th>pclass</th>\n",
       "      <th>age</th>\n",
       "      <th>sibsp</th>\n",
       "      <th>parch</th>\n",
       "      <th>fare</th>\n",
       "      <th>embarked</th>\n",
       "      <th>alone</th>\n",
       "      <th>is_female</th>\n",
       "      <th>embark_Cherbourg</th>\n",
       "      <th>embark_Queenstown</th>\n",
       "      <th>embark_Southampton</th>\n",
       "    </tr>\n",
       "  </thead>\n",
       "  <tbody>\n",
       "    <tr>\n",
       "      <th>0</th>\n",
       "      <td>0</td>\n",
       "      <td>3</td>\n",
       "      <td>22.0</td>\n",
       "      <td>1</td>\n",
       "      <td>0</td>\n",
       "      <td>7.2500</td>\n",
       "      <td>S</td>\n",
       "      <td>0</td>\n",
       "      <td>0</td>\n",
       "      <td>0</td>\n",
       "      <td>0</td>\n",
       "      <td>1</td>\n",
       "    </tr>\n",
       "    <tr>\n",
       "      <th>1</th>\n",
       "      <td>1</td>\n",
       "      <td>1</td>\n",
       "      <td>38.0</td>\n",
       "      <td>1</td>\n",
       "      <td>0</td>\n",
       "      <td>71.2833</td>\n",
       "      <td>C</td>\n",
       "      <td>0</td>\n",
       "      <td>1</td>\n",
       "      <td>1</td>\n",
       "      <td>0</td>\n",
       "      <td>0</td>\n",
       "    </tr>\n",
       "  </tbody>\n",
       "</table>\n",
       "</div>"
      ],
      "text/plain": [
       "   survived  pclass   age  sibsp  parch     fare embarked  alone  is_female  \\\n",
       "0         0       3  22.0      1      0   7.2500        S      0          0   \n",
       "1         1       1  38.0      1      0  71.2833        C      0          1   \n",
       "\n",
       "   embark_Cherbourg  embark_Queenstown  embark_Southampton  \n",
       "0                 0                  0                   1  \n",
       "1                 1                  0                   0  "
      ]
     },
     "execution_count": 12,
     "metadata": {},
     "output_type": "execute_result"
    }
   ],
   "source": [
    "df = prep_titanic(df)\n",
    "df.head(2)\n"
   ]
  },
  {
   "cell_type": "code",
   "execution_count": 18,
   "id": "e4619721",
   "metadata": {},
   "outputs": [],
   "source": [
    "def train_validate_test_split(df, target, seed=123):\n",
    "    '''\n",
    "    This function takes in a dataframe, the name of the target variable\n",
    "    (for stratification purposes), and an integer for a setting a seed\n",
    "    and splits the data into train, validate and test. \n",
    "    Test is 20% of the original dataset, validate is .30*.80= 24% of the \n",
    "    original dataset, and train is .70*.80= 56% of the original dataset. \n",
    "    The function returns, in this order, train, validate and test dataframes. \n",
    "    '''\n",
    "    train_validate, test = train_test_split(df, test_size=0.2, \n",
    "                                            random_state=seed, \n",
    "                                            stratify=df[target])\n",
    "    train, validate = train_test_split(train_validate, test_size=0.3, \n",
    "                                       random_state=seed,\n",
    "                                       stratify=train_validate[target])\n",
    "    return train, validate, test\n"
   ]
  },
  {
   "cell_type": "code",
   "execution_count": 19,
   "id": "b4d5facd",
   "metadata": {},
   "outputs": [
    {
     "data": {
      "text/plain": [
       "((398, 12), (171, 12), (143, 12))"
      ]
     },
     "execution_count": 19,
     "metadata": {},
     "output_type": "execute_result"
    }
   ],
   "source": [
    "# Stratify with categorical target variables\n",
    "train, validate, test = train_validate_test_split(df, target='survived')\n",
    "train.shape, validate.shape, test.shape\n"
   ]
  },
  {
   "cell_type": "code",
   "execution_count": 20,
   "id": "a0aceb89",
   "metadata": {},
   "outputs": [
    {
     "data": {
      "image/png": "[encoded data removed]",
      "text/plain": [
       "<Figure size 432x288 with 1 Axes>"
      ]
     },
     "metadata": {
      "needs_background": "light"
     },
     "output_type": "display_data"
    }
   ],
   "source": [
    "plt.title(\"Most passengers did not survive\")\n",
    "train.survived.hist()\n",
    "plt.show()\n"
   ]
  },
  {
   "cell_type": "code",
   "execution_count": 21,
   "id": "484dd502",
   "metadata": {},
   "outputs": [
    {
     "name": "stdout",
     "output_type": "stream",
     "text": [
      "Percent survived from train\n"
     ]
    },
    {
     "data": {
      "text/plain": [
       "0.405"
      ]
     },
     "execution_count": 21,
     "metadata": {},
     "output_type": "execute_result"
    }
   ],
   "source": [
    "# We can call .mean() since 0 and 1 are numeric\n",
    "print(\"Percent survived from train\")\n",
    "round(train.survived.mean(), 3)\n"
   ]
  },
  {
   "cell_type": "code",
   "execution_count": 23,
   "id": "0e4ade13",
   "metadata": {},
   "outputs": [
    {
     "data": {
      "image/png": "[encoded data removed]",
      "text/plain": [
       "<Figure size 432x288 with 1 Axes>"
      ]
     },
     "metadata": {
      "needs_background": "light"
     },
     "output_type": "display_data"
    }
   ],
   "source": [
    "plt.title(\"Nearly as many 3rd class tickets as 1st and 2nd\")\n",
    "train.pclass.hist()\n",
    "plt.show()\n",
    "\n"
   ]
  },
  {
   "cell_type": "code",
   "execution_count": 24,
   "id": "30c092ae",
   "metadata": {},
   "outputs": [
    {
     "data": {
      "image/png": "[encoded data removed]",
      "text/plain": [
       "<Figure size 432x288 with 1 Axes>"
      ]
     },
     "metadata": {
      "needs_background": "light"
     },
     "output_type": "display_data"
    }
   ],
   "source": [
    "plt.title(\"Distribution of Ages\")\n",
    "train.age.hist()\n",
    "plt.show()\n"
   ]
  },
  {
   "cell_type": "code",
   "execution_count": 25,
   "id": "d4bb45e8",
   "metadata": {},
   "outputs": [
    {
     "data": {
      "image/png": "[encoded data removed]",
      "text/plain": [
       "<Figure size 432x288 with 1 Axes>"
      ]
     },
     "metadata": {
      "needs_background": "light"
     },
     "output_type": "display_data"
    }
   ],
   "source": [
    "plt.title(\"Fare has very few but extreme outliers\")\n",
    "train.fare.hist()\n",
    "plt.show()\n"
   ]
  },
  {
   "cell_type": "code",
   "execution_count": 26,
   "id": "9f7aa3af",
   "metadata": {},
   "outputs": [
    {
     "data": {
      "text/html": [
       "<div>\n",
       "<style scoped>\n",
       "    .dataframe tbody tr th:only-of-type {\n",
       "        vertical-align: middle;\n",
       "    }\n",
       "\n",
       "    .dataframe tbody tr th {\n",
       "        vertical-align: top;\n",
       "    }\n",
       "\n",
       "    .dataframe thead th {\n",
       "        text-align: right;\n",
       "    }\n",
       "</style>\n",
       "<table border=\"1\" class=\"dataframe\">\n",
       "  <thead>\n",
       "    <tr style=\"text-align: right;\">\n",
       "      <th></th>\n",
       "      <th>survived</th>\n",
       "      <th>pclass</th>\n",
       "      <th>age</th>\n",
       "      <th>sibsp</th>\n",
       "      <th>parch</th>\n",
       "      <th>fare</th>\n",
       "      <th>embarked</th>\n",
       "      <th>alone</th>\n",
       "      <th>is_female</th>\n",
       "      <th>embark_Cherbourg</th>\n",
       "      <th>embark_Queenstown</th>\n",
       "      <th>embark_Southampton</th>\n",
       "    </tr>\n",
       "  </thead>\n",
       "  <tbody>\n",
       "    <tr>\n",
       "      <th>450</th>\n",
       "      <td>0</td>\n",
       "      <td>2</td>\n",
       "      <td>36.0</td>\n",
       "      <td>1</td>\n",
       "      <td>2</td>\n",
       "      <td>27.75</td>\n",
       "      <td>S</td>\n",
       "      <td>0</td>\n",
       "      <td>0</td>\n",
       "      <td>0</td>\n",
       "      <td>0</td>\n",
       "      <td>1</td>\n",
       "    </tr>\n",
       "    <tr>\n",
       "      <th>543</th>\n",
       "      <td>1</td>\n",
       "      <td>2</td>\n",
       "      <td>32.0</td>\n",
       "      <td>1</td>\n",
       "      <td>0</td>\n",
       "      <td>26.00</td>\n",
       "      <td>S</td>\n",
       "      <td>0</td>\n",
       "      <td>0</td>\n",
       "      <td>0</td>\n",
       "      <td>0</td>\n",
       "      <td>1</td>\n",
       "    </tr>\n",
       "  </tbody>\n",
       "</table>\n",
       "</div>"
      ],
      "text/plain": [
       "     survived  pclass   age  sibsp  parch   fare embarked  alone  is_female  \\\n",
       "450         0       2  36.0      1      2  27.75        S      0          0   \n",
       "543         1       2  32.0      1      0  26.00        S      0          0   \n",
       "\n",
       "     embark_Cherbourg  embark_Queenstown  embark_Southampton  \n",
       "450                 0                  0                   1  \n",
       "543                 0                  0                   1  "
      ]
     },
     "execution_count": 26,
     "metadata": {},
     "output_type": "execute_result"
    }
   ],
   "source": [
    "train.head(2)\n"
   ]
  },
  {
   "cell_type": "raw",
   "id": "23d77714",
   "metadata": {},
   "source": [
    "Takeaways & Actions\n",
    "\n",
    "~60% perished and ~40% survived. Predicting \"not survived\" will be our baseline prediction to test the usefulness of features on later when we get to modeling. (With classification, a good baseline is the mode of the target)\n",
    "\n",
    "Age seems close enough to a normal distribution\n",
    "\n",
    "Fare has some extreme outliers and might still not be normally distributed after removing them. If that's the case, then we would run a Mann-Whitney test instead of a t-test. Use the p-value in the same manner.\n",
    "\n",
    "Survived can be treated as either a categorical variable or a number. We can view survived via color on a chart, as categories on the x-axis on a bar chart, or as a proportion between 0 and 1 on the y-axis when viewing another categorical variable to compare \"survival rate\".\n",
    "\n",
    "We can compare proportions of those who survived and those who didn't with another categorical variable. For example, we can test is female passengers were more or less likely to survive than male passengers using a chi-square test.\n",
    "\n",
    "We can compare the mean of continuous variables between those who survived to those who did not survive using a test such as a t-test or Mann-Whitney test (the non-parametric version of the t-test). Such as, is there a difference in the average fare paid for those who survived vs. those who did not survive?\n",
    "\n",
    "What else?"
   ]
  },
  {
   "cell_type": "code",
   "execution_count": 27,
   "id": "3e0a6f71",
   "metadata": {
    "scrolled": true
   },
   "outputs": [
    {
     "data": {
      "text/html": [
       "<div>\n",
       "<style scoped>\n",
       "    .dataframe tbody tr th:only-of-type {\n",
       "        vertical-align: middle;\n",
       "    }\n",
       "\n",
       "    .dataframe tbody tr th {\n",
       "        vertical-align: top;\n",
       "    }\n",
       "\n",
       "    .dataframe thead th {\n",
       "        text-align: right;\n",
       "    }\n",
       "</style>\n",
       "<table border=\"1\" class=\"dataframe\">\n",
       "  <thead>\n",
       "    <tr style=\"text-align: right;\">\n",
       "      <th></th>\n",
       "      <th>survived</th>\n",
       "      <th>pclass</th>\n",
       "      <th>age</th>\n",
       "      <th>sibsp</th>\n",
       "      <th>parch</th>\n",
       "      <th>fare</th>\n",
       "      <th>embarked</th>\n",
       "      <th>alone</th>\n",
       "      <th>is_female</th>\n",
       "      <th>embark_Cherbourg</th>\n",
       "      <th>embark_Queenstown</th>\n",
       "      <th>embark_Southampton</th>\n",
       "    </tr>\n",
       "  </thead>\n",
       "  <tbody>\n",
       "    <tr>\n",
       "      <th>450</th>\n",
       "      <td>0</td>\n",
       "      <td>2</td>\n",
       "      <td>36.0</td>\n",
       "      <td>1</td>\n",
       "      <td>2</td>\n",
       "      <td>27.75</td>\n",
       "      <td>S</td>\n",
       "      <td>0</td>\n",
       "      <td>0</td>\n",
       "      <td>0</td>\n",
       "      <td>0</td>\n",
       "      <td>1</td>\n",
       "    </tr>\n",
       "    <tr>\n",
       "      <th>543</th>\n",
       "      <td>1</td>\n",
       "      <td>2</td>\n",
       "      <td>32.0</td>\n",
       "      <td>1</td>\n",
       "      <td>0</td>\n",
       "      <td>26.00</td>\n",
       "      <td>S</td>\n",
       "      <td>0</td>\n",
       "      <td>0</td>\n",
       "      <td>0</td>\n",
       "      <td>0</td>\n",
       "      <td>1</td>\n",
       "    </tr>\n",
       "  </tbody>\n",
       "</table>\n",
       "</div>"
      ],
      "text/plain": [
       "     survived  pclass   age  sibsp  parch   fare embarked  alone  is_female  \\\n",
       "450         0       2  36.0      1      2  27.75        S      0          0   \n",
       "543         1       2  32.0      1      0  26.00        S      0          0   \n",
       "\n",
       "     embark_Cherbourg  embark_Queenstown  embark_Southampton  \n",
       "450                 0                  0                   1  \n",
       "543                 0                  0                   1  "
      ]
     },
     "execution_count": 27,
     "metadata": {},
     "output_type": "execute_result"
    }
   ],
   "source": [
    "train.head(2)\n"
   ]
  },
  {
   "cell_type": "markdown",
   "id": "2bae6809",
   "metadata": {},
   "source": [
    "# Let's Visualize and Test some Categorical Variables to the Target\n",
    "\n",
    "pclass to survived. What's the relationship between survival and class of ticket?\n",
    "\n",
    "alone to survived. Is traveling with people more helpful for surviving?\n",
    "\n",
    "gender to survived. What's the relationship between survival and gender?\n",
    "\n",
    "fare to survived. What's the relationship between fare and survival?\n",
    "\n",
    "What further combinations of features could you analyze?\n",
    "\n",
    "What about binning age into young, middle, and older?\n",
    "\n",
    "Are there any features that would make sense to create?\n"
   ]
  },
  {
   "cell_type": "code",
   "execution_count": 28,
   "id": "26346f9d",
   "metadata": {},
   "outputs": [
    {
     "data": {
      "image/png": "[encoded data removed]",
      "text/plain": [
       "<Figure size 432x288 with 1 Axes>"
      ]
     },
     "metadata": {
      "needs_background": "light"
     },
     "output_type": "display_data"
    }
   ],
   "source": [
    "plt.title(\"It pays to travel first and second class\")\n",
    "sns.barplot(x=\"pclass\", y=\"survived\", data=train)\n",
    "population_survival_rate = train.survived.mean()\n",
    "plt.axhline(population_survival_rate, label=\"Population survival rate\")\n",
    "plt.legend()\n",
    "plt.show()\n"
   ]
  },
  {
   "cell_type": "code",
   "execution_count": 29,
   "id": "00f3be04",
   "metadata": {},
   "outputs": [
    {
     "name": "stdout",
     "output_type": "stream",
     "text": [
      "Reject the null hypothesis that survival and class of ticket are independent\n",
      "Sufficient evidence to move forward understanding that there is a relationship between class of ticket and survival\n"
     ]
    }
   ],
   "source": [
    "# The above visual is quite clear, but if it was less clear or we want more certainty, we'll run a hypothesis test\n",
    "# Let's run a chi squared to compare proportions, to have more confidence\n",
    "alpha = 0.05\n",
    "null_hypothesis = \"survival and class of ticket are independent\"\n",
    "alternative_hypothesis = \"there is a relationship between class of ticket and survival\"\n",
    "\n",
    "# Setup a crosstab of observed survival to pclass\n",
    "observed = pd.crosstab(train.survived, train.pclass)\n",
    "\n",
    "chi2, p, degf, expected = stats.chi2_contingency(observed)\n",
    "\n",
    "if p < alpha:\n",
    "    print(\"Reject the null hypothesis that\", null_hypothesis)\n",
    "    print(\"Sufficient evidence to move forward understanding that\", alternative_hypothesis)\n",
    "else:\n",
    "    print(\"Fail to reject the null\")\n",
    "    print(\"Insufficient evidence to reject the null\")\n"
   ]
  },
  {
   "cell_type": "code",
   "execution_count": 30,
   "id": "678b6b04",
   "metadata": {},
   "outputs": [
    {
     "data": {
      "image/png": "[encoded data removed]",
      "text/plain": [
       "<Figure size 432x288 with 1 Axes>"
      ]
     },
     "metadata": {
      "needs_background": "light"
     },
     "output_type": "display_data"
    }
   ],
   "source": [
    "plt.title(\"Better not travel alone.\")\n",
    "sns.barplot(x=\"alone\", y=\"survived\", data=train)\n",
    "population_survival_rate = train.survived.mean()\n",
    "plt.axhline(population_survival_rate, label=\"Population survival rate\")\n",
    "plt.legend()\n",
    "plt.show()\n"
   ]
  },
  {
   "cell_type": "code",
   "execution_count": 31,
   "id": "fbaf13fb",
   "metadata": {},
   "outputs": [
    {
     "name": "stdout",
     "output_type": "stream",
     "text": [
      "Reject the null hypothesis that survival and traveling alone are independent\n",
      "Sufficient evidence to move forward understanding that there is a relationship between survival and traveling alone\n"
     ]
    }
   ],
   "source": [
    "# If the visual was unclear or we need more confirmation, run a hypothesis test\n",
    "# Let's run a chi squared to compare proportions\n",
    "alpha = 0.05\n",
    "null_hypothesis = \"survival and traveling alone are independent\"\n",
    "alternative_hypothesis = \"there is a relationship between survival and traveling alone\"\n",
    "\n",
    "# Setup a crosstab of observed survival to pclass\n",
    "observed = pd.crosstab(train.survived, train.alone)\n",
    "\n",
    "chi2, p, degf, expected = stats.chi2_contingency(observed)\n",
    "\n",
    "if p < alpha:\n",
    "    print(\"Reject the null hypothesis that\", null_hypothesis)\n",
    "    print(\"Sufficient evidence to move forward understanding that\", alternative_hypothesis)\n",
    "else:\n",
    "    print(\"Fail to reject the null\")\n",
    "    print(\"Insufficient evidence to reject the null\")\n"
   ]
  },
  {
   "cell_type": "code",
   "execution_count": 32,
   "id": "147bedd6",
   "metadata": {},
   "outputs": [
    {
     "data": {
      "image/png": "[encoded data removed]",
      "text/plain": [
       "<Figure size 432x288 with 1 Axes>"
      ]
     },
     "metadata": {
      "needs_background": "light"
     },
     "output_type": "display_data"
    }
   ],
   "source": [
    "plt.title(\"Women more likely to survive\")\n",
    "sns.barplot(x=\"is_female\", y=\"survived\", data=train)\n",
    "population_survival_rate = train.survived.mean()\n",
    "plt.axhline(population_survival_rate, label=\"Population survival rate\")\n",
    "plt.legend()\n",
    "plt.show()\n"
   ]
  },
  {
   "cell_type": "code",
   "execution_count": 33,
   "id": "cc13b761",
   "metadata": {},
   "outputs": [
    {
     "name": "stdout",
     "output_type": "stream",
     "text": [
      "Reject the null hypothesis that survival and gender are independent\n",
      "Sufficient evidence to move forward understanding that there is a relationship between survival and gender\n"
     ]
    }
   ],
   "source": [
    "# Let's run a chi squared to compare proportions, to have more confidence\n",
    "alpha = 0.05\n",
    "\n",
    "null_hypothesis = \"survival and gender are independent\"\n",
    "alternative_hypothesis = \"there is a relationship between survival and gender\"\n",
    "\n",
    "# Setup a crosstab of observed survival to pclass\n",
    "observed = pd.crosstab(train.survived, train.is_female)\n",
    "\n",
    "chi2, p, degf, expected = stats.chi2_contingency(observed)\n",
    "\n",
    "if p < alpha:\n",
    "    print(\"Reject the null hypothesis that\", null_hypothesis)\n",
    "    print(\"Sufficient evidence to move forward understanding that\", alternative_hypothesis)\n",
    "else:\n",
    "    print(\"Fail to reject the null\")\n",
    "    print(\"Insufficient evidence to reject the null\")\n"
   ]
  },
  {
   "cell_type": "markdown",
   "id": "c10081d6",
   "metadata": {},
   "source": [
    "# Comparing Numeric vs. a Categorical Example\n",
    "\n",
    "If the visual is not completely clear, the need for a hypothesis test increases.\n",
    "\n",
    "First, set your confidence level and your alpha (Confidence level of 95% and alpha of 0.05 are good)\n",
    "Select the appropriate test for your 2 variables:\n",
    "If numeric to numeric, run a correlation test\n",
    "Compare proportions with \n",
    "χ\n",
    "2\n",
    "Compare means with t-test or Mann-Whitney u-test.\n",
    "Run tests, form conclusions, and document your results\n",
    "(rinse and then repeat with other variables of interest)\n",
    "\n",
    "1 tailed Mann-Whitney test. For more on Mann-Whitney, see the Wikipedia article\n",
    "\n",
    "Write down your hypothesis setup\n",
    "\n",
    "H\n",
    "0\n",
    ": Survived passenger fares cost less than or equal to non-surviving passenger fare\n",
    "\n",
    "H\n",
    "a\n",
    ": Surviving passenger fares cost more than non-surviving passenger fares"
   ]
  },
  {
   "cell_type": "code",
   "execution_count": 35,
   "id": "0ccfe45c",
   "metadata": {},
   "outputs": [],
   "source": [
    "# Subset the data into survived and not-surviving status\n",
    "not_survived = train[train.survived == 0]\n",
    "survived = train[train.survived == 1]\n"
   ]
  },
  {
   "cell_type": "code",
   "execution_count": 36,
   "id": "b367af3d",
   "metadata": {},
   "outputs": [
    {
     "data": {
      "text/plain": [
       "(846.4473286218973, 7299.474755819128)"
      ]
     },
     "execution_count": 36,
     "metadata": {},
     "output_type": "execute_result"
    }
   ],
   "source": [
    "# check variances of the two groups\n",
    "not_survived.fare.var(), survived.fare.var()\n"
   ]
  },
  {
   "cell_type": "code",
   "execution_count": 37,
   "id": "ee23d7b2",
   "metadata": {},
   "outputs": [
    {
     "data": {
      "image/png": "[encoded data removed]",
      "text/plain": [
       "<Figure size 432x288 with 1 Axes>"
      ]
     },
     "metadata": {
      "needs_background": "light"
     },
     "output_type": "display_data"
    }
   ],
   "source": [
    "plt.title(\"What's the relationship of fare and survival?\")\n",
    "plt.hist(survived.fare, label=\"survived\")\n",
    "plt.hist(not_survived.fare, label=\"perished\")\n",
    "plt.legend()\n",
    "plt.show()\n"
   ]
  },
  {
   "cell_type": "code",
   "execution_count": 38,
   "id": "e675e26c",
   "metadata": {},
   "outputs": [],
   "source": [
    "from scipy import stats\n",
    "\n",
    "null_hypothesis = \"fares paid by survived passengers are less than or equal to fares paid by non-surviving passengers\"\n",
    "alternative_hypothesis = \"fares paid by surviving passengers are higher than non-surviving passengers\"\n",
    "\n",
    "# Use Mann Whitney u-test when t-test assumptions do not hold.\n",
    "# The distributions are not normal and the variances are not equal, so we'll do mann-whitney\n",
    "t, p = stats.mannwhitneyu(survived.fare, not_survived.fare, alternative=\"greater\")\n"
   ]
  },
  {
   "cell_type": "code",
   "execution_count": 39,
   "id": "7a96d9f6",
   "metadata": {},
   "outputs": [
    {
     "name": "stdout",
     "output_type": "stream",
     "text": [
      "We find evidence to reject the null hypothesis that fares paid by survived passengers are less than or equal to fares paid by non-surviving passengers\n",
      "We find evidence evidence to move forward with the understaind that fares paid by surviving passengers are higher than non-surviving passengers\n"
     ]
    }
   ],
   "source": [
    "if p < alpha:\n",
    "    print(\"We find evidence to reject the null hypothesis that\", null_hypothesis)\n",
    "    print(\"We find evidence evidence to move forward with the understaind that\", alternative_hypothesis)\n",
    "else:\n",
    "    print(\"We fail to reject the null hypothesis\")\n",
    "    print(\"There is no evidence that\", null_hypothesis)\n"
   ]
  },
  {
   "cell_type": "code",
   "execution_count": 40,
   "id": "fb1b9849",
   "metadata": {},
   "outputs": [
    {
     "data": {
      "text/plain": [
       "4.665118844596931e-14"
      ]
     },
     "execution_count": 40,
     "metadata": {},
     "output_type": "execute_result"
    }
   ],
   "source": [
    "p"
   ]
  },
  {
   "cell_type": "markdown",
   "id": "8ea3e091",
   "metadata": {},
   "source": [
    "# Takeaways from bivariate exploration, so far\n",
    "\n",
    "-It pays to travel first and second class\n",
    "    \n",
    "-Better to travel with family/company\"\n",
    "    \n",
    "-Women much more likely to survive\n",
    "    \n",
    "-Survivors paid higher fares. This tracks with class of    ticket.\n",
    "\n",
    "\n",
    "Important Questions - What else can you determine by looking at sibsp, parch, fare, or age compared to our target survived - If the visuals are not crystal clear in indicating a relationship, then we should conduct hypothesis testing with the approviate variables along with the target. - For a second draft: - Any other variables we can combine together? - Would it make sense to create a variable like is_child which would be a boolean? - Would it make sense to investigate each independent variable with each-other and not only the target? - What else do you notice? - And what else can we learn if we look at the interaction of more than two variables at a time?\n",
    "\n"
   ]
  },
  {
   "cell_type": "markdown",
   "id": "933e89e1",
   "metadata": {},
   "source": [
    "# Multivariate Stats & Analysis\n",
    "\n",
    "During this stage, we often add another dimension to our data, such as the target variable as color.\n",
    "\n",
    "We also ask additional, more specific and targeted questions of the data, such as how subgroups compare to each-other and to the overall population. We then answer these questions using visualizations and/or hypothesis testing.\n",
    "\n",
    "Some options for multivariate visuals: \n",
    "\n",
    "- If you have multiple numeric columns, generating a pairplot with the target variable set to the hue argument might help. It may also be too noisy. \n",
    "\n",
    "- A relplot of a numeric x, a numeric y, and a hue or col argument using a category z. If you discover a good set of numeric columns in the pairplot, then it would be valuable to create a visual for that pairing along with the target. \n",
    "\n",
    "- We can also use hue or col along with seaborn catplot \n",
    "\n",
    "- We can make subgroups based on multiple categorical features and compare to other groups or the population\n",
    "\n",
    "Multivariate statistical tests exist, (but are outside the scope of this course).\n",
    "\n",
    "We can, however, create subgroups based on multiple categorical features and conduct hypothesis tests."
   ]
  },
  {
   "cell_type": "code",
   "execution_count": 41,
   "id": "67462845",
   "metadata": {},
   "outputs": [
    {
     "data": {
      "image/png": "[encoded data removed]",
      "text/plain": [
       "<Figure size 432x288 with 1 Axes>"
      ]
     },
     "metadata": {
      "needs_background": "light"
     },
     "output_type": "display_data"
    }
   ],
   "source": [
    "# At each class ticket, women have better survival rates\n",
    "plt.title(\"In each class of ticket, survivors trend younger\")\n",
    "sns.boxplot(x=\"pclass\", y=\"age\", data=train, hue=\"survived\")\n",
    "population_survival_rate = train.survived.mean()\n",
    "plt.axhline(population_survival_rate)\n",
    "plt.show()\n"
   ]
  },
  {
   "cell_type": "markdown",
   "id": "5496706e",
   "metadata": {},
   "source": [
    "Note A scatterplot of 2 numeric columns by one or two categorical columns might be very useful for numeric targets on your y axis"
   ]
  },
  {
   "cell_type": "code",
   "execution_count": 42,
   "id": "d8c240f1",
   "metadata": {},
   "outputs": [
    {
     "data": {
      "image/png": "[encoded data removed]",
      "text/plain": [
       "<Figure size 1130.88x360 with 3 Axes>"
      ]
     },
     "metadata": {
      "needs_background": "light"
     },
     "output_type": "display_data"
    }
   ],
   "source": [
    "# No discernable relationship between age and fare, but the pclass relates to survival\n",
    "rel = sns.relplot(x='age', y='fare', data=train, col=\"pclass\", hue=\"survived\")\n",
    "rel.fig.suptitle('Age to Fare, colum by pclass') # One way to title a relplot\n",
    "plt.tight_layout()\n"
   ]
  },
  {
   "cell_type": "code",
   "execution_count": 43,
   "id": "13508393",
   "metadata": {},
   "outputs": [
    {
     "data": {
      "image/png": "[encoded data removed]",
      "text/plain": [
       "<Figure size 432x288 with 1 Axes>"
      ]
     },
     "metadata": {
      "needs_background": "light"
     },
     "output_type": "display_data"
    }
   ],
   "source": [
    "plt.title(\"Women more likely to survive at all ticket classes\")\n",
    "sns.barplot(x=\"pclass\", y=\"survived\", hue=\"is_female\", data=train)\n",
    "population_survival_rate = train.survived.mean()\n",
    "plt.show()\n"
   ]
  },
  {
   "cell_type": "code",
   "execution_count": 44,
   "id": "b9b230f1",
   "metadata": {},
   "outputs": [
    {
     "name": "stdout",
     "output_type": "stream",
     "text": [
      "Overall survival rate: 0.4\n",
      "Overall female survival rate 0.75\n",
      "Overall male survival rate 0.2\n",
      "3rd class ticket survival rate 0.21\n",
      "Survival rate for women in 3rd class: 0.46\n",
      "Survival rate for men in 3rd class: 0.1\n"
     ]
    }
   ],
   "source": [
    "women_in_3rd_class = train[(train.pclass == 3) & (train.is_female == 1)]\n",
    "men_in_3rd_class = train[(train.pclass == 3) & (train.is_female == 0)]\n",
    "\n",
    "print(f\"Overall survival rate:\", round(train.survived.mean(), 2))\n",
    "print(f\"Overall female survival rate\", round(train[train.is_female == 1].survived.mean(), 2))\n",
    "print(f\"Overall male survival rate\", round(train[train.is_female == 0].survived.mean(), 2))\n",
    "print(f\"3rd class ticket survival rate\", round(train[train.pclass == 3].survived.mean(), 2))\n",
    "print(f\"Survival rate for women in 3rd class:\", round(women_in_3rd_class.survived.mean(), 2))\n",
    "print(f\"Survival rate for men in 3rd class:\", round(men_in_3rd_class.survived.mean(), 2))\n"
   ]
  },
  {
   "cell_type": "code",
   "execution_count": 48,
   "id": "4800d14b",
   "metadata": {},
   "outputs": [
    {
     "data": {
      "image/png": "[encoded data removed]",
      "text/plain": [
       "<Figure size 762.375x360 with 2 Axes>"
      ]
     },
     "metadata": {
      "needs_background": "light"
     },
     "output_type": "display_data"
    }
   ],
   "source": [
    "cat = sns.catplot(data=train, x=\"pclass\", y=\"survived\", hue=\"alone\", col=\"is_female\", kind=\"bar\")\n",
    "cat.fig.suptitle(\"Traveling alone, at any class ticket is riskier for men\")\n",
    "plt.tight_layout()\n"
   ]
  },
  {
   "cell_type": "markdown",
   "id": "f41729a7",
   "metadata": {},
   "source": [
    "# Takeaways \n",
    "1. Women more likely to survive at all ticket classes \n",
    "2. In each class of ticket, survivors trend younger \n",
    "3. First class alone has better survival than 3rd class traveling with family \n",
    "4. Fare and age don't seem to correlate, but fare and class of ticket appear related. \n",
    "5. For both men and women passengers, survival and pclass are dependent\n",
    "\n",
    "- What do you learn from these? What are some actions you wish to take?\n",
    "\n"
   ]
  },
  {
   "cell_type": "code",
   "execution_count": 49,
   "id": "1872dd5b",
   "metadata": {},
   "outputs": [],
   "source": [
    "# Gender subset setup\n",
    "male_subset = train[train.is_female == 0]\n",
    "female_subset = train[train.is_female == 1]\n"
   ]
  },
  {
   "cell_type": "code",
   "execution_count": 50,
   "id": "5063ce03",
   "metadata": {},
   "outputs": [
    {
     "name": "stdout",
     "output_type": "stream",
     "text": [
      "We reject the null hypothesis that survival and pclass are independent for female passengers\n",
      "Evidence suggests that survival and pclass are dependent for female passengers\n"
     ]
    }
   ],
   "source": [
    "null_hypothesis = \"survival and pclass are independent for female passengers\"\n",
    "alternative_hypothesis = \"survival and pclass are dependent for female passengers\"\n",
    "\n",
    "alpha = 0.05\n",
    "observed = pd.crosstab(female_subset.survived, female_subset.pclass)\n",
    "chi2, p, degf, expected = stats.chi2_contingency(observed)\n",
    "\n",
    "if p < alpha:\n",
    "    print(\"We reject the null hypothesis that\", null_hypothesis)\n",
    "    print(\"Evidence suggests that\", alternative_hypothesis)\n",
    "else:\n",
    "    print(\"We fail to reject the null hypothesis\")\n",
    "    print(\"We find insufficient evidence to support the claim that\", alternative_hypothesis)\n"
   ]
  },
  {
   "cell_type": "code",
   "execution_count": 51,
   "id": "befa4e94",
   "metadata": {},
   "outputs": [
    {
     "name": "stdout",
     "output_type": "stream",
     "text": [
      "We reject the null hypothesis that survival and pclass are independent for male passengers\n",
      "Evidence suggests that survival and pclass are dependent for male passengers\n"
     ]
    }
   ],
   "source": [
    "null_hypothesis = \"survival and pclass are independent for male passengers\"\n",
    "alternative_hypothesis = \"survival and pclass are dependent for male passengers\"\n",
    "\n",
    "alpha = 0.05\n",
    "observed = pd.crosstab(male_subset.survived, male_subset.pclass)\n",
    "chi2, p, degf, expected = stats.chi2_contingency(observed)\n",
    "\n",
    "if p < alpha:\n",
    "    print(\"We reject the null hypothesis that\", null_hypothesis)\n",
    "    print(\"Evidence suggests that\", alternative_hypothesis)\n",
    "else:\n",
    "    print(\"We fail to reject the null hypothesis\")\n",
    "    print(\"We find insufficient evidence to support the claim that\", alternative_hypothesis)\n"
   ]
  },
  {
   "cell_type": "markdown",
   "id": "1873e5a1",
   "metadata": {},
   "source": [
    "# Get Creative\n",
    "\n",
    "Ask additional, more specific and targeted questions of the data, such as how subgroups compare to each-other and to the overall population. We then answer these questions using visualizations and/or hypothesis testing.\n",
    "\n",
    "-Is there a relationship between survival and parch for women travelers?\n",
    "\n",
    "-Is there a relationship between survival and parch for male travelers?\n",
    "\n",
    "-Is there a relationship between survival and sibsp for women travelers?\n",
    "\n",
    "-Is there a relationship between survival and sibsp for male travelers?\n",
    "\n",
    "What other subgroups can you create and visualize?\n",
    "\n",
    "What variables have you not worked with yet?\n",
    "\n",
    "What other subgroups can you create and test?"
   ]
  },
  {
   "cell_type": "markdown",
   "id": "6d042718",
   "metadata": {},
   "source": [
    "## Conclusion\n",
    "\n",
    "Here we pull all of our takeaways and actions together into one place we can reference as we move forward. - Overall, 60% did NOT survive. This will be my baseline prediction to test the usefulness of features on later when we get to modeling. - Younger people appear more likely to survive. A new feature of is_child might be helpful, or maybe binning age into 3 groups of \"young\", \"middle\", and \"older\" would be more helpful than age as a numeric column, alone. - Take all of your takeaways and document them in one place. - If we have time, maybe on a second draft, we can dive deep into more variable pairings.\n",
    "\n",
    "# Work fast to an MVP understanding of your data\n",
    "\n",
    "-Focus on features that give you the biggest bang for your buck.\n",
    "\n",
    "-If there's 30% of a population that's responsible for 99% of the sales, starting with breaking down that 30% population into different groups\n",
    "\n",
    "# When you have time for a second draft\n",
    "\n",
    "-Revisit some of the things you may have skipped earlier in order to get to an MVP.\n",
    "\n",
    "-For example, there were ~20% of rows with missing age. If you have time, check these out. Is there a set of the population that is similar such that we can impute an expected age value?\n",
    "\n",
    "# Explore creating your own features\n",
    "\n",
    "-Turning numeric columns like age into a category with is_child, for example with a boolean.\n",
    "\n",
    "-Where does it make logical sense to combine columns"
   ]
  },
  {
   "cell_type": "code",
   "execution_count": 6,
   "id": "04a07ae9",
   "metadata": {},
   "outputs": [
    {
     "data": {
      "text/html": [
       "<div>\n",
       "<style scoped>\n",
       "    .dataframe tbody tr th:only-of-type {\n",
       "        vertical-align: middle;\n",
       "    }\n",
       "\n",
       "    .dataframe tbody tr th {\n",
       "        vertical-align: top;\n",
       "    }\n",
       "\n",
       "    .dataframe thead th {\n",
       "        text-align: right;\n",
       "    }\n",
       "</style>\n",
       "<table border=\"1\" class=\"dataframe\">\n",
       "  <thead>\n",
       "    <tr style=\"text-align: right;\">\n",
       "      <th></th>\n",
       "      <th>5</th>\n",
       "      <th>17</th>\n",
       "      <th>19</th>\n",
       "      <th>26</th>\n",
       "      <th>28</th>\n",
       "    </tr>\n",
       "  </thead>\n",
       "  <tbody>\n",
       "    <tr>\n",
       "      <th>passenger_id</th>\n",
       "      <td>5</td>\n",
       "      <td>17</td>\n",
       "      <td>19</td>\n",
       "      <td>26</td>\n",
       "      <td>28</td>\n",
       "    </tr>\n",
       "    <tr>\n",
       "      <th>survived</th>\n",
       "      <td>0</td>\n",
       "      <td>1</td>\n",
       "      <td>1</td>\n",
       "      <td>0</td>\n",
       "      <td>1</td>\n",
       "    </tr>\n",
       "    <tr>\n",
       "      <th>pclass</th>\n",
       "      <td>3</td>\n",
       "      <td>2</td>\n",
       "      <td>3</td>\n",
       "      <td>3</td>\n",
       "      <td>3</td>\n",
       "    </tr>\n",
       "    <tr>\n",
       "      <th>sex</th>\n",
       "      <td>male</td>\n",
       "      <td>male</td>\n",
       "      <td>female</td>\n",
       "      <td>male</td>\n",
       "      <td>female</td>\n",
       "    </tr>\n",
       "    <tr>\n",
       "      <th>age</th>\n",
       "      <td>NaN</td>\n",
       "      <td>NaN</td>\n",
       "      <td>NaN</td>\n",
       "      <td>NaN</td>\n",
       "      <td>NaN</td>\n",
       "    </tr>\n",
       "    <tr>\n",
       "      <th>sibsp</th>\n",
       "      <td>0</td>\n",
       "      <td>0</td>\n",
       "      <td>0</td>\n",
       "      <td>0</td>\n",
       "      <td>0</td>\n",
       "    </tr>\n",
       "    <tr>\n",
       "      <th>parch</th>\n",
       "      <td>0</td>\n",
       "      <td>0</td>\n",
       "      <td>0</td>\n",
       "      <td>0</td>\n",
       "      <td>0</td>\n",
       "    </tr>\n",
       "    <tr>\n",
       "      <th>fare</th>\n",
       "      <td>8.4583</td>\n",
       "      <td>13.0</td>\n",
       "      <td>7.225</td>\n",
       "      <td>7.225</td>\n",
       "      <td>7.8792</td>\n",
       "    </tr>\n",
       "    <tr>\n",
       "      <th>embarked</th>\n",
       "      <td>Q</td>\n",
       "      <td>S</td>\n",
       "      <td>C</td>\n",
       "      <td>C</td>\n",
       "      <td>Q</td>\n",
       "    </tr>\n",
       "    <tr>\n",
       "      <th>class</th>\n",
       "      <td>Third</td>\n",
       "      <td>Second</td>\n",
       "      <td>Third</td>\n",
       "      <td>Third</td>\n",
       "      <td>Third</td>\n",
       "    </tr>\n",
       "    <tr>\n",
       "      <th>deck</th>\n",
       "      <td>None</td>\n",
       "      <td>None</td>\n",
       "      <td>None</td>\n",
       "      <td>None</td>\n",
       "      <td>None</td>\n",
       "    </tr>\n",
       "    <tr>\n",
       "      <th>embark_town</th>\n",
       "      <td>Queenstown</td>\n",
       "      <td>Southampton</td>\n",
       "      <td>Cherbourg</td>\n",
       "      <td>Cherbourg</td>\n",
       "      <td>Queenstown</td>\n",
       "    </tr>\n",
       "    <tr>\n",
       "      <th>alone</th>\n",
       "      <td>1</td>\n",
       "      <td>1</td>\n",
       "      <td>1</td>\n",
       "      <td>1</td>\n",
       "      <td>1</td>\n",
       "    </tr>\n",
       "  </tbody>\n",
       "</table>\n",
       "</div>"
      ],
      "text/plain": [
       "                      5            17         19         26          28\n",
       "passenger_id           5           17         19         26          28\n",
       "survived               0            1          1          0           1\n",
       "pclass                 3            2          3          3           3\n",
       "sex                 male         male     female       male      female\n",
       "age                  NaN          NaN        NaN        NaN         NaN\n",
       "sibsp                  0            0          0          0           0\n",
       "parch                  0            0          0          0           0\n",
       "fare              8.4583         13.0      7.225      7.225      7.8792\n",
       "embarked               Q            S          C          C           Q\n",
       "class              Third       Second      Third      Third       Third\n",
       "deck                None         None       None       None        None\n",
       "embark_town   Queenstown  Southampton  Cherbourg  Cherbourg  Queenstown\n",
       "alone                  1            1          1          1           1"
      ]
     },
     "execution_count": 6,
     "metadata": {},
     "output_type": "execute_result"
    }
   ],
   "source": [
    "missing_age = df[df.age.isna()]\n",
    "missing_age.head().T"
   ]
  },
  {
   "cell_type": "code",
   "execution_count": null,
   "id": "79f92225",
   "metadata": {},
   "outputs": [],
   "source": []
  }
 ],
 "metadata": {
  "kernelspec": {
   "display_name": "Python 3 (ipykernel)",
   "language": "python",
   "name": "python3"
  },
  "language_info": {
   "codemirror_mode": {
    "name": "ipython",
    "version": 3
   },
   "file_extension": ".py",
   "mimetype": "text/x-python",
   "name": "python",
   "nbconvert_exporter": "python",
   "pygments_lexer": "ipython3",
   "version": "3.9.7"
  }
 },
 "nbformat": 4,
 "nbformat_minor": 5
}
